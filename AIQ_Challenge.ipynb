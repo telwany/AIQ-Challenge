{
  "nbformat": 4,
  "nbformat_minor": 0,
  "metadata": {
    "colab": {
      "provenance": []
    },
    "kernelspec": {
      "name": "python3",
      "display_name": "Python 3"
    },
    "language_info": {
      "name": "python"
    }
  },
  "cells": [
    {
      "cell_type": "markdown",
      "source": [
        "I used Goggle Collab Notebook"
      ],
      "metadata": {
        "id": "fw7xl_W__pBX"
      }
    },
    {
      "cell_type": "markdown",
      "source": [
        "First Step is mounting my google drive"
      ],
      "metadata": {
        "id": "92GFVrUV_vxO"
      }
    },
    {
      "cell_type": "code",
      "metadata": {
        "colab": {
          "base_uri": "https://localhost:8080/"
        },
        "id": "-LOeqoy0G7Sm",
        "outputId": "9a4ccab4-b78a-4923-f2b6-8f4a6780acbb"
      },
      "source": [
        "#Change it if you will use any other data source\n",
        "from google.colab import drive\n",
        "drive.mount('/content/drive', force_remount=True)"
      ],
      "execution_count": 129,
      "outputs": [
        {
          "output_type": "stream",
          "name": "stdout",
          "text": [
            "Mounted at /content/drive\n"
          ]
        }
      ]
    },
    {
      "cell_type": "markdown",
      "source": [
        "Reading Sample Sales Data CSV file"
      ],
      "metadata": {
        "id": "kRpqnKKs_9bC"
      }
    },
    {
      "cell_type": "code",
      "source": [
        "import pandas as pd\n",
        "\n",
        "# Define the path to your CSV file in Google Drive\n",
        "csv_file_path = \"/content/drive/MyDrive/a/AIQ-Challenge/data/sales_data.csv\"\n",
        "\n",
        "# Load the CSV file into a DataFrame\n",
        "sales_df = pd.read_csv(csv_file_path)\n",
        "\n",
        "# Display the first few rows of the DataFrame\n",
        "print(sales_df.head())"
      ],
      "metadata": {
        "colab": {
          "base_uri": "https://localhost:8080/"
        },
        "id": "PEIsprG3_lkJ",
        "outputId": "b45fa170-3c46-4b12-e76d-2d9d292739e5"
      },
      "execution_count": 130,
      "outputs": [
        {
          "output_type": "stream",
          "name": "stdout",
          "text": [
            "   order_id  customer_id  product_id  quantity  price  order_date\n",
            "0      2334            5          40         3  35.60  2022-06-21\n",
            "1      6228            8          13         7  36.52  2023-03-08\n",
            "2      7784            9          44         4  46.56  2023-04-22\n",
            "3      6588            5          26         1  15.87  2022-10-23\n",
            "4      5910            8          32        10  77.00  2022-10-05\n"
          ]
        }
      ]
    },
    {
      "cell_type": "markdown",
      "source": [
        "Data Checks"
      ],
      "metadata": {
        "id": "RpQ6-mr6A3Rt"
      }
    },
    {
      "cell_type": "code",
      "source": [
        "# Check for missing values\n",
        "missing_values = sales_df.isnull().sum()\n",
        "print(missing_values)\n"
      ],
      "metadata": {
        "colab": {
          "base_uri": "https://localhost:8080/"
        },
        "id": "QsikAPCwA2di",
        "outputId": "d9f5811d-9011-4cd1-e3af-b0e6204d00fe"
      },
      "execution_count": 131,
      "outputs": [
        {
          "output_type": "stream",
          "name": "stdout",
          "text": [
            "order_id       0\n",
            "customer_id    0\n",
            "product_id     0\n",
            "quantity       0\n",
            "price          0\n",
            "order_date     0\n",
            "dtype: int64\n"
          ]
        }
      ]
    },
    {
      "cell_type": "code",
      "source": [
        "# Check data types\n",
        "data_types = sales_df.dtypes\n",
        "print(data_types)"
      ],
      "metadata": {
        "colab": {
          "base_uri": "https://localhost:8080/"
        },
        "id": "KlNU2XYHA96_",
        "outputId": "145625f0-dbb5-40a2-eb34-657708a37acc"
      },
      "execution_count": 132,
      "outputs": [
        {
          "output_type": "stream",
          "name": "stdout",
          "text": [
            "order_id         int64\n",
            "customer_id      int64\n",
            "product_id       int64\n",
            "quantity         int64\n",
            "price          float64\n",
            "order_date      object\n",
            "dtype: object\n"
          ]
        }
      ]
    },
    {
      "cell_type": "code",
      "source": [
        "# Check for duplicates\n",
        "duplicate_rows = sales_df[sales_df.duplicated()]\n",
        "print(duplicate_rows)\n",
        "\n",
        "# Remove duplicates\n",
        "sales_df = sales_df.drop_duplicates()"
      ],
      "metadata": {
        "colab": {
          "base_uri": "https://localhost:8080/"
        },
        "id": "TWY2xqNlBAMj",
        "outputId": "03a069c5-3d0a-4392-d416-6480ef2c025e"
      },
      "execution_count": 133,
      "outputs": [
        {
          "output_type": "stream",
          "name": "stdout",
          "text": [
            "Empty DataFrame\n",
            "Columns: [order_id, customer_id, product_id, quantity, price, order_date]\n",
            "Index: []\n"
          ]
        }
      ]
    },
    {
      "cell_type": "code",
      "source": [
        "# Summary statistics\n",
        "summary_stats = sales_df.describe()\n",
        "print(summary_stats)"
      ],
      "metadata": {
        "colab": {
          "base_uri": "https://localhost:8080/"
        },
        "id": "p53u9jsdBHLJ",
        "outputId": "e8f4fc91-62bc-45bf-beaf-7fc2261703f6"
      },
      "execution_count": 134,
      "outputs": [
        {
          "output_type": "stream",
          "name": "stdout",
          "text": [
            "          order_id  customer_id   product_id     quantity        price\n",
            "count  1000.000000  1000.000000  1000.000000  1000.000000  1000.000000\n",
            "mean   5539.816000     5.633000    25.587000     5.571000    55.041080\n",
            "std    2656.608141     2.871682    14.478054     2.801215    25.594854\n",
            "min    1007.000000     1.000000     1.000000     1.000000    10.070000\n",
            "25%    3194.750000     3.000000    13.000000     3.000000    32.917500\n",
            "50%    5658.000000     6.000000    25.000000     6.000000    54.040000\n",
            "75%    7897.000000     8.000000    38.000000     8.000000    76.605000\n",
            "max    9992.000000    10.000000    50.000000    10.000000    99.780000\n"
          ]
        }
      ]
    },
    {
      "cell_type": "code",
      "source": [
        "import matplotlib.pyplot as plt\n",
        "\n",
        "# Order ID : Histogram\n",
        "plt.hist(sales_df['order_id'])\n",
        "plt.xlabel('order id')\n",
        "plt.ylabel('Frequency')\n",
        "plt.title('Histogram of order id')\n",
        "plt.show()"
      ],
      "metadata": {
        "colab": {
          "base_uri": "https://localhost:8080/",
          "height": 472
        },
        "id": "PLAYZvAWBDEq",
        "outputId": "438e59c7-1f0c-45e8-d3cd-2b8ede504aa9"
      },
      "execution_count": 135,
      "outputs": [
        {
          "output_type": "display_data",
          "data": {
            "text/plain": [
              "<Figure size 640x480 with 1 Axes>"
            ],
            "image/png": "[encoded data removed]"
          },
          "metadata": {}
        }
      ]
    },
    {
      "cell_type": "code",
      "source": [
        "# Customer ID : Histogram\n",
        "plt.hist(sales_df['customer_id'])\n",
        "plt.xlabel('customer id')\n",
        "plt.ylabel('Frequency')\n",
        "plt.title('Histogram of customer id')\n",
        "plt.show()"
      ],
      "metadata": {
        "colab": {
          "base_uri": "https://localhost:8080/",
          "height": 472
        },
        "id": "tpAMJcUbB_eZ",
        "outputId": "67e476c1-b3ec-4ed9-f634-1cdbb551c0dc"
      },
      "execution_count": 136,
      "outputs": [
        {
          "output_type": "display_data",
          "data": {
            "text/plain": [
              "<Figure size 640x480 with 1 Axes>"
            ],
            "image/png": "[encoded data removed]"
          },
          "metadata": {}
        }
      ]
    },
    {
      "cell_type": "code",
      "source": [
        "# Product ID : Histogram\n",
        "plt.hist(sales_df['product_id'])\n",
        "plt.xlabel('product id')\n",
        "plt.ylabel('Frequency')\n",
        "plt.title('Histogram of product id')\n",
        "plt.show()"
      ],
      "metadata": {
        "id": "Zp0KjFzOCLfL",
        "outputId": "782eacb5-5e4a-4056-b1da-7d241dd403f2",
        "colab": {
          "base_uri": "https://localhost:8080/",
          "height": 472
        }
      },
      "execution_count": 137,
      "outputs": [
        {
          "output_type": "display_data",
          "data": {
            "text/plain": [
              "<Figure size 640x480 with 1 Axes>"
            ],
            "image/png": "[encoded data removed]"
          },
          "metadata": {}
        }
      ]
    },
    {
      "cell_type": "code",
      "source": [
        "# Quantity : Histogram\n",
        "plt.hist(sales_df['quantity'])\n",
        "plt.xlabel('quantity')\n",
        "plt.ylabel('Frequency')\n",
        "plt.title('Histogram of quantity')\n",
        "plt.show()"
      ],
      "metadata": {
        "colab": {
          "base_uri": "https://localhost:8080/",
          "height": 472
        },
        "id": "TsSaWeMhC4vi",
        "outputId": "ca73e3f2-caad-489f-fe18-5357fa433304"
      },
      "execution_count": 138,
      "outputs": [
        {
          "output_type": "display_data",
          "data": {
            "text/plain": [
              "<Figure size 640x480 with 1 Axes>"
            ],
            "image/png": "[encoded data removed]"
          },
          "metadata": {}
        }
      ]
    },
    {
      "cell_type": "code",
      "source": [
        "# Price : Histogram\n",
        "plt.hist(sales_df['price'])\n",
        "plt.xlabel('price')\n",
        "plt.ylabel('Frequency')\n",
        "plt.title('Histogram of price')\n",
        "plt.show()"
      ],
      "metadata": {
        "colab": {
          "base_uri": "https://localhost:8080/",
          "height": 472
        },
        "id": "-A9poyy-DA4L",
        "outputId": "061002c6-d8aa-4c46-9df9-a7101c5da1cb"
      },
      "execution_count": 139,
      "outputs": [
        {
          "output_type": "display_data",
          "data": {
            "text/plain": [
              "<Figure size 640x480 with 1 Axes>"
            ],
            "image/png": "[encoded data removed]"
          },
          "metadata": {}
        }
      ]
    },
    {
      "cell_type": "markdown",
      "source": [
        "Checking the date format of order_date\n"
      ],
      "metadata": {
        "id": "o7hT0EMRDPKW"
      }
    },
    {
      "cell_type": "code",
      "source": [
        "expected_format = '%Y-%m-%d'\n",
        "\n",
        "# Try to convert the column to datetime with the expected format\n",
        "try:\n",
        "    sales_df['order_date'] = pd.to_datetime(sales_df['order_date'], format=expected_format)\n",
        "    print(\"Date format is correct.\")\n",
        "except ValueError:\n",
        "    print(\"Date format is incorrect.\")"
      ],
      "metadata": {
        "colab": {
          "base_uri": "https://localhost:8080/"
        },
        "id": "p0nn1nzPDT4U",
        "outputId": "da868886-7ee6-42fb-f410-77bba6c839f0"
      },
      "execution_count": 140,
      "outputs": [
        {
          "output_type": "stream",
          "name": "stdout",
          "text": [
            "Date format is correct.\n"
          ]
        }
      ]
    },
    {
      "cell_type": "markdown",
      "source": [
        "Fetch user data from the JSONPlaceholder API"
      ],
      "metadata": {
        "id": "SlPDm7luD3jz"
      }
    },
    {
      "cell_type": "code",
      "source": [
        "from ctypes import addressof\n",
        "import requests\n",
        "\n",
        "base_url = \"https://jsonplaceholder.typicode.com\"\n",
        "users_endpoint = \"/users\"\n",
        "url = f\"{base_url}{users_endpoint}\"\n",
        "\n",
        "response = requests.get(url)\n",
        "if response.status_code == 200:\n",
        "    # Parse the JSON response\n",
        "    users_data = response.json()\n",
        "else:\n",
        "    print(f\"Failed to fetch user data. Status code: {response.status_code}\")\n",
        "    users_data = []  # Set an empty list in case of failure\n",
        "\n",
        "users_df = pd.DataFrame(users_data)\n",
        "print(users_df.head())"
      ],
      "metadata": {
        "colab": {
          "base_uri": "https://localhost:8080/"
        },
        "id": "SA6cKVDtFIwH",
        "outputId": "f8a22428-965e-4bc1-81f9-5c4f18ed1483"
      },
      "execution_count": 141,
      "outputs": [
        {
          "output_type": "stream",
          "name": "stdout",
          "text": [
            "   id              name   username                      email  \\\n",
            "0   1     Leanne Graham       Bret          Sincere@april.biz   \n",
            "1   2      Ervin Howell  Antonette          Shanna@melissa.tv   \n",
            "2   3  Clementine Bauch   Samantha         Nathan@yesenia.net   \n",
            "3   4  Patricia Lebsack   Karianne  Julianne.OConner@kory.org   \n",
            "4   5  Chelsey Dietrich     Kamren   Lucio_Hettinger@annie.ca   \n",
            "\n",
            "                                             address                  phone  \\\n",
            "0  {'street': 'Kulas Light', 'suite': 'Apt. 556',...  1-770-736-8031 x56442   \n",
            "1  {'street': 'Victor Plains', 'suite': 'Suite 87...    010-692-6593 x09125   \n",
            "2  {'street': 'Douglas Extension', 'suite': 'Suit...         1-463-123-4447   \n",
            "3  {'street': 'Hoeger Mall', 'suite': 'Apt. 692',...      493-170-9623 x156   \n",
            "4  {'street': 'Skiles Walks', 'suite': 'Suite 351...          (254)954-1289   \n",
            "\n",
            "         website                                            company  \n",
            "0  hildegard.org  {'name': 'Romaguera-Crona', 'catchPhrase': 'Mu...  \n",
            "1  anastasia.net  {'name': 'Deckow-Crist', 'catchPhrase': 'Proac...  \n",
            "2    ramiro.info  {'name': 'Romaguera-Jacobson', 'catchPhrase': ...  \n",
            "3       kale.biz  {'name': 'Robel-Corkery', 'catchPhrase': 'Mult...  \n",
            "4   demarco.info  {'name': 'Keebler LLC', 'catchPhrase': 'User-c...  \n"
          ]
        }
      ]
    },
    {
      "cell_type": "markdown",
      "source": [
        "Selecting Required Data from User Data Frame"
      ],
      "metadata": {
        "id": "pClPDledGbAA"
      }
    },
    {
      "cell_type": "markdown",
      "source": [
        "extractig lat ad log from address"
      ],
      "metadata": {
        "id": "ln109MMxIRVZ"
      }
    },
    {
      "cell_type": "code",
      "source": [
        "# Create a new DataFrame with selected columns\n",
        "curated_users_df = users_df[['id', 'name', 'username', 'email']]\n",
        "print(curated_users_df.head())\n"
      ],
      "metadata": {
        "colab": {
          "base_uri": "https://localhost:8080/"
        },
        "id": "OynM-9AQIhBq",
        "outputId": "ab6f612f-3a0f-4181-aa70-d970c411c82d"
      },
      "execution_count": 142,
      "outputs": [
        {
          "output_type": "stream",
          "name": "stdout",
          "text": [
            "   id              name   username                      email\n",
            "0   1     Leanne Graham       Bret          Sincere@april.biz\n",
            "1   2      Ervin Howell  Antonette          Shanna@melissa.tv\n",
            "2   3  Clementine Bauch   Samantha         Nathan@yesenia.net\n",
            "3   4  Patricia Lebsack   Karianne  Julianne.OConner@kory.org\n",
            "4   5  Chelsey Dietrich     Kamren   Lucio_Hettinger@annie.ca\n"
          ]
        }
      ]
    },
    {
      "cell_type": "code",
      "source": [
        "# Apply the extract_lat_long function to the \"address\" column\n",
        "curated_users_df['latitude'] = users_df['address'].apply(lambda x: x.get('geo', {}).get('lat', None))\n",
        "curated_users_df['longitude'] = users_df['address'].apply(lambda x: x.get('geo', {}).get('lng', None))\n",
        "\n",
        "flattened_users_df = users_df[['id', 'name', 'username', 'email']]\n",
        "flattened_users_df['street'] = users_df['address'].apply(lambda x: x.get('street', {}))\n",
        "flattened_users_df['suite'] = users_df['address'].apply(lambda x: x.get('suite', {}))\n",
        "flattened_users_df['city'] = users_df['address'].apply(lambda x: x.get('city', {}))\n",
        "flattened_users_df['zipcode'] = users_df['address'].apply(lambda x: x.get('zipcode', {}))\n",
        "flattened_users_df['geo_lat'] = users_df['address'].apply(lambda x: x.get('geo', {}).get('lat', None))\n",
        "flattened_users_df['geo_lng'] = users_df['address'].apply(lambda x: x.get('geo', {}).get('lng', None))\n",
        "flattened_users_df['phone'] = users_df['phone']\n",
        "flattened_users_df['website'] = users_df['website']\n",
        "flattened_users_df['company_name'] = users_df['company'].apply(lambda x: x.get('name', {}))\n",
        "flattened_users_df['company_catchphrase'] = users_df['company'].apply(lambda x: x.get('cathcphrase', {}))\n",
        "flattened_users_df['company_bs'] = users_df['company'].apply(lambda x: x.get('bs', {}))\n",
        "print(curated_users_df.head())\n",
        "print(flattened_users_df.head())"
      ],
      "metadata": {
        "colab": {
          "base_uri": "https://localhost:8080/"
        },
        "id": "1J-KHuhjQ_Y-",
        "outputId": "83597ad1-78f5-4be9-9d6d-a48ef56edbaa"
      },
      "execution_count": 143,
      "outputs": [
        {
          "output_type": "stream",
          "name": "stdout",
          "text": [
            "   id              name   username                      email  latitude  \\\n",
            "0   1     Leanne Graham       Bret          Sincere@april.biz  -37.3159   \n",
            "1   2      Ervin Howell  Antonette          Shanna@melissa.tv  -43.9509   \n",
            "2   3  Clementine Bauch   Samantha         Nathan@yesenia.net  -68.6102   \n",
            "3   4  Patricia Lebsack   Karianne  Julianne.OConner@kory.org   29.4572   \n",
            "4   5  Chelsey Dietrich     Kamren   Lucio_Hettinger@annie.ca  -31.8129   \n",
            "\n",
            "   longitude  \n",
            "0    81.1496  \n",
            "1   -34.4618  \n",
            "2   -47.0653  \n",
            "3  -164.2990  \n",
            "4    62.5342  \n",
            "   id              name   username                      email  \\\n",
            "0   1     Leanne Graham       Bret          Sincere@april.biz   \n",
            "1   2      Ervin Howell  Antonette          Shanna@melissa.tv   \n",
            "2   3  Clementine Bauch   Samantha         Nathan@yesenia.net   \n",
            "3   4  Patricia Lebsack   Karianne  Julianne.OConner@kory.org   \n",
            "4   5  Chelsey Dietrich     Kamren   Lucio_Hettinger@annie.ca   \n",
            "\n",
            "              street      suite           city     zipcode   geo_lat  \\\n",
            "0        Kulas Light   Apt. 556    Gwenborough  92998-3874  -37.3159   \n",
            "1      Victor Plains  Suite 879    Wisokyburgh  90566-7771  -43.9509   \n",
            "2  Douglas Extension  Suite 847  McKenziehaven  59590-4157  -68.6102   \n",
            "3        Hoeger Mall   Apt. 692    South Elvis  53919-4257   29.4572   \n",
            "4       Skiles Walks  Suite 351     Roscoeview       33263  -31.8129   \n",
            "\n",
            "     geo_lng                  phone        website        company_name  \\\n",
            "0    81.1496  1-770-736-8031 x56442  hildegard.org     Romaguera-Crona   \n",
            "1   -34.4618    010-692-6593 x09125  anastasia.net        Deckow-Crist   \n",
            "2   -47.0653         1-463-123-4447    ramiro.info  Romaguera-Jacobson   \n",
            "3  -164.2990      493-170-9623 x156       kale.biz       Robel-Corkery   \n",
            "4    62.5342          (254)954-1289   demarco.info         Keebler LLC   \n",
            "\n",
            "  company_catchphrase                            company_bs  \n",
            "0                  {}           harness real-time e-markets  \n",
            "1                  {}      synergize scalable supply-chains  \n",
            "2                  {}       e-enable strategic applications  \n",
            "3                  {}  transition cutting-edge web services  \n",
            "4                  {}      revolutionize end-to-end systems  \n"
          ]
        },
        {
          "output_type": "stream",
          "name": "stderr",
          "text": [
            "<ipython-input-143-9242225d3d42>:2: SettingWithCopyWarning: \n",
            "A value is trying to be set on a copy of a slice from a DataFrame.\n",
            "Try using .loc[row_indexer,col_indexer] = value instead\n",
            "\n",
            "See the caveats in the documentation: https://pandas.pydata.org/pandas-docs/stable/user_guide/indexing.html#returning-a-view-versus-a-copy\n",
            "  curated_users_df['latitude'] = users_df['address'].apply(lambda x: x.get('geo', {}).get('lat', None))\n",
            "<ipython-input-143-9242225d3d42>:3: SettingWithCopyWarning: \n",
            "A value is trying to be set on a copy of a slice from a DataFrame.\n",
            "Try using .loc[row_indexer,col_indexer] = value instead\n",
            "\n",
            "See the caveats in the documentation: https://pandas.pydata.org/pandas-docs/stable/user_guide/indexing.html#returning-a-view-versus-a-copy\n",
            "  curated_users_df['longitude'] = users_df['address'].apply(lambda x: x.get('geo', {}).get('lng', None))\n",
            "<ipython-input-143-9242225d3d42>:6: SettingWithCopyWarning: \n",
            "A value is trying to be set on a copy of a slice from a DataFrame.\n",
            "Try using .loc[row_indexer,col_indexer] = value instead\n",
            "\n",
            "See the caveats in the documentation: https://pandas.pydata.org/pandas-docs/stable/user_guide/indexing.html#returning-a-view-versus-a-copy\n",
            "  flattened_users_df['street'] = users_df['address'].apply(lambda x: x.get('street', {}))\n",
            "<ipython-input-143-9242225d3d42>:7: SettingWithCopyWarning: \n",
            "A value is trying to be set on a copy of a slice from a DataFrame.\n",
            "Try using .loc[row_indexer,col_indexer] = value instead\n",
            "\n",
            "See the caveats in the documentation: https://pandas.pydata.org/pandas-docs/stable/user_guide/indexing.html#returning-a-view-versus-a-copy\n",
            "  flattened_users_df['suite'] = users_df['address'].apply(lambda x: x.get('suite', {}))\n",
            "<ipython-input-143-9242225d3d42>:8: SettingWithCopyWarning: \n",
            "A value is trying to be set on a copy of a slice from a DataFrame.\n",
            "Try using .loc[row_indexer,col_indexer] = value instead\n",
            "\n",
            "See the caveats in the documentation: https://pandas.pydata.org/pandas-docs/stable/user_guide/indexing.html#returning-a-view-versus-a-copy\n",
            "  flattened_users_df['city'] = users_df['address'].apply(lambda x: x.get('city', {}))\n"
          ]
        }
      ]
    },
    {
      "cell_type": "markdown",
      "source": [
        "Data Checks of users data"
      ],
      "metadata": {
        "id": "sukX6j-VLRzJ"
      }
    },
    {
      "cell_type": "code",
      "source": [
        "# Check for missing values\n",
        "missing_values = curated_users_df.isnull().sum()\n",
        "print(missing_values)\n"
      ],
      "metadata": {
        "colab": {
          "base_uri": "https://localhost:8080/"
        },
        "outputId": "0bc28c27-7f20-44dd-abe1-4e7fab907e3d",
        "id": "u2AwdXd-LRzZ"
      },
      "execution_count": 144,
      "outputs": [
        {
          "output_type": "stream",
          "name": "stdout",
          "text": [
            "id           0\n",
            "name         0\n",
            "username     0\n",
            "email        0\n",
            "latitude     0\n",
            "longitude    0\n",
            "dtype: int64\n"
          ]
        }
      ]
    },
    {
      "cell_type": "code",
      "source": [
        "# Check data types\n",
        "data_types = curated_users_df.dtypes\n",
        "print(data_types)"
      ],
      "metadata": {
        "colab": {
          "base_uri": "https://localhost:8080/"
        },
        "outputId": "7da22124-a013-4493-f6f9-c840de3c60e9",
        "id": "WnRAucZvLRza"
      },
      "execution_count": 145,
      "outputs": [
        {
          "output_type": "stream",
          "name": "stdout",
          "text": [
            "id            int64\n",
            "name         object\n",
            "username     object\n",
            "email        object\n",
            "latitude     object\n",
            "longitude    object\n",
            "dtype: object\n"
          ]
        }
      ]
    },
    {
      "cell_type": "code",
      "source": [
        "# Check for duplicates\n",
        "duplicate_rows = curated_users_df[curated_users_df.duplicated()]\n",
        "print(duplicate_rows)\n",
        "\n",
        "# Remove duplicates\n",
        "curated_users_df = curated_users_df.drop_duplicates()"
      ],
      "metadata": {
        "colab": {
          "base_uri": "https://localhost:8080/"
        },
        "outputId": "6bb5d50e-c5f4-4685-c453-195ee3f3ceab",
        "id": "2v2sK98aLRza"
      },
      "execution_count": 146,
      "outputs": [
        {
          "output_type": "stream",
          "name": "stdout",
          "text": [
            "Empty DataFrame\n",
            "Columns: [id, name, username, email, latitude, longitude]\n",
            "Index: []\n"
          ]
        }
      ]
    },
    {
      "cell_type": "code",
      "source": [
        "# Summary statistics\n",
        "summary_stats = curated_users_df.describe()\n",
        "print(summary_stats)"
      ],
      "metadata": {
        "colab": {
          "base_uri": "https://localhost:8080/"
        },
        "outputId": "06e97fff-f593-4ac6-b0ef-0d991483a3d1",
        "id": "JhJ_YL2dLRzb"
      },
      "execution_count": 147,
      "outputs": [
        {
          "output_type": "stream",
          "name": "stdout",
          "text": [
            "             id\n",
            "count  10.00000\n",
            "mean    5.50000\n",
            "std     3.02765\n",
            "min     1.00000\n",
            "25%     3.25000\n",
            "50%     5.50000\n",
            "75%     7.75000\n",
            "max    10.00000\n"
          ]
        }
      ]
    },
    {
      "cell_type": "code",
      "source": [
        "import matplotlib.pyplot as plt\n",
        "\n",
        "# User ID : Histogram\n",
        "plt.hist(curated_users_df['id'])\n",
        "plt.xlabel('id')\n",
        "plt.ylabel('Frequency')\n",
        "plt.title('Histogram of user id')\n",
        "plt.show()"
      ],
      "metadata": {
        "colab": {
          "base_uri": "https://localhost:8080/",
          "height": 472
        },
        "outputId": "0cb9aedf-c8e7-416a-d020-f01a26f9103f",
        "id": "Fe2iFd9gLRzb"
      },
      "execution_count": 148,
      "outputs": [
        {
          "output_type": "display_data",
          "data": {
            "text/plain": [
              "<Figure size 640x480 with 1 Axes>"
            ],
            "image/png": "[encoded data removed]"
          },
          "metadata": {}
        }
      ]
    },
    {
      "cell_type": "code",
      "source": [
        "# latitude : Histogram\n",
        "plt.hist(curated_users_df['latitude'])\n",
        "plt.xlabel('latitude')\n",
        "plt.ylabel('Frequency')\n",
        "plt.title('Histogram of latitude')\n",
        "plt.show()"
      ],
      "metadata": {
        "colab": {
          "base_uri": "https://localhost:8080/",
          "height": 472
        },
        "outputId": "ceade07d-2453-43da-e4fb-9397a481603d",
        "id": "R6beYRpELRzc"
      },
      "execution_count": 149,
      "outputs": [
        {
          "output_type": "display_data",
          "data": {
            "text/plain": [
              "<Figure size 640x480 with 1 Axes>"
            ],
            "image/png": "[encoded data removed]"
          },
          "metadata": {}
        }
      ]
    },
    {
      "cell_type": "code",
      "source": [
        "# longitude : Histogram\n",
        "plt.hist(curated_users_df['longitude'])\n",
        "plt.xlabel('longitude')\n",
        "plt.ylabel('Frequency')\n",
        "plt.title('Histogram of longitude')\n",
        "plt.show()"
      ],
      "metadata": {
        "outputId": "2a2fab83-bc9c-4ce1-b7c0-ac34d0015258",
        "colab": {
          "base_uri": "https://localhost:8080/",
          "height": 472
        },
        "id": "lzTh_TQ4LRzc"
      },
      "execution_count": 150,
      "outputs": [
        {
          "output_type": "display_data",
          "data": {
            "text/plain": [
              "<Figure size 640x480 with 1 Axes>"
            ],
            "image/png": "[encoded data removed]"
          },
          "metadata": {}
        }
      ]
    },
    {
      "cell_type": "code",
      "source": [
        "# Merge Sales Data with User Data\n",
        "sales_users_df = pd.merge(sales_df, curated_users_df, left_on='customer_id', right_on='id', how='left')\n",
        "print(sales_users_df.head())"
      ],
      "metadata": {
        "colab": {
          "base_uri": "https://localhost:8080/"
        },
        "id": "dlFzsoBgP9Xr",
        "outputId": "b4d2ef13-493d-4d16-f228-4faf48cb019f"
      },
      "execution_count": 151,
      "outputs": [
        {
          "output_type": "stream",
          "name": "stdout",
          "text": [
            "   order_id  customer_id  product_id  quantity  price order_date  id  \\\n",
            "0      2334            5          40         3  35.60 2022-06-21   5   \n",
            "1      6228            8          13         7  36.52 2023-03-08   8   \n",
            "2      7784            9          44         4  46.56 2023-04-22   9   \n",
            "3      6588            5          26         1  15.87 2022-10-23   5   \n",
            "4      5910            8          32        10  77.00 2022-10-05   8   \n",
            "\n",
            "                       name       username                     email  \\\n",
            "0          Chelsey Dietrich         Kamren  Lucio_Hettinger@annie.ca   \n",
            "1  Nicholas Runolfsdottir V  Maxime_Nienow      Sherwood@rosamond.me   \n",
            "2           Glenna Reichert       Delphine   Chaim_McDermott@dana.io   \n",
            "3          Chelsey Dietrich         Kamren  Lucio_Hettinger@annie.ca   \n",
            "4  Nicholas Runolfsdottir V  Maxime_Nienow      Sherwood@rosamond.me   \n",
            "\n",
            "   latitude  longitude  \n",
            "0  -31.8129    62.5342  \n",
            "1  -14.3990  -120.7677  \n",
            "2   24.6463  -168.8889  \n",
            "3  -31.8129    62.5342  \n",
            "4  -14.3990  -120.7677  \n"
          ]
        }
      ]
    },
    {
      "cell_type": "code",
      "source": [
        "# Check for missing values\n",
        "missing_values = sales_users_df.isnull().sum()\n",
        "print(missing_values)\n"
      ],
      "metadata": {
        "colab": {
          "base_uri": "https://localhost:8080/"
        },
        "outputId": "f8233da4-d566-4004-da27-dd62c99e80e8",
        "id": "aDsxRojBaFrW"
      },
      "execution_count": 152,
      "outputs": [
        {
          "output_type": "stream",
          "name": "stdout",
          "text": [
            "order_id       0\n",
            "customer_id    0\n",
            "product_id     0\n",
            "quantity       0\n",
            "price          0\n",
            "order_date     0\n",
            "id             0\n",
            "name           0\n",
            "username       0\n",
            "email          0\n",
            "latitude       0\n",
            "longitude      0\n",
            "dtype: int64\n"
          ]
        }
      ]
    },
    {
      "cell_type": "code",
      "source": [
        "import time\n",
        "# Define your OpenWeatherMap API key\n",
        "api_key = '83ac0cba25afe9820ee263f50de30f4e'\n",
        "# Define a function to fetch weather data for a given latitude and longitude and temperature will be returned in celcuis degree\n",
        "# add try and except to sleep in case the API hits exceeded the 1 minute limit\n",
        "def get_weather_data(latitude, longitude,weather_id):\n",
        "    base_url = 'https://api.openweathermap.org/data/2.5/weather?'\n",
        "    params ='lat='+latitude+'&lon='+longitude+'&units=metric'+'&appid='+api_key\n",
        "    retries = 0\n",
        "    while retries <= 1000 :\n",
        "      try :\n",
        "        print(params)\n",
        "        response = requests.get(base_url+params)\n",
        "        if response.status_code == 200:\n",
        "          weather_data = response.json()\n",
        "          temperature = weather_data.get('main', {}).get('temp', None)\n",
        "          weather_conditions = weather_data.get('weather', [])[0].get('description', None)\n",
        "          return temperature, weather_conditions,weather_id,weather_id,weather_data.get('coord', {}),weather_data.get('weather', [])[0],weather_data.get('base', {}),weather_data.get('main', {}),weather_data.get('visibility', {}),weather_data.get('wind', {}),weather_data.get('clouds', {}),weather_data.get('dt', {}),weather_data.get('sys', {}),weather_data.get('timezone', {}),weather_data.get('id', {}),weather_data.get('name', {}),weather_data.get('cod', {})\n",
        "\n",
        "\n",
        "        else:\n",
        "          return None, None,None,None\n",
        "      except Exception as e:\n",
        "        print(\"sleep for 60 secs \")\n",
        "        time.sleep(60)\n",
        "        retries = retries + 1\n",
        "    return None, None,None,None"
      ],
      "metadata": {
        "id": "HLVSI_vhUcV2"
      },
      "execution_count": 153,
      "outputs": []
    },
    {
      "cell_type": "code",
      "source": [
        "weather_df=sales_users_df[['order_id']]\n",
        "weather_df.rename(columns={'order_id': 'id'})\n",
        "# Apply the get_weather_data function to your DataFrame to fetch weather information\n",
        "sales_users_df['temperature'], sales_users_df['weather_conditions'],sales_df['weather_id'],weather_df['id'],weather_df['coord'],weather_df['weather'],weather_df['base'],weather_df['main'],weather_df['visibility'],weather_df['wind'],weather_df['clouds'],weather_df['dt'],weather_df['sys'],weather_df['timezone'],weather_df['id'],weather_df['name'],weather_df['cod'] = zip(*sales_users_df.apply(lambda row: get_weather_data(row['latitude'], row['longitude'],row.name), axis=1))\n",
        "\n",
        "# Display the updated DataFrame with weather information\n",
        "print(sales_users_df.head())\n",
        "print(\"--------------------------------------\")\n",
        "print(sales_df.head())\n",
        "print(\"--------------------------------------\")\n",
        "print(weather_df.head())"
      ],
      "metadata": {
        "id": "sNTEOwOzNfWX",
        "colab": {
          "base_uri": "https://localhost:8080/"
        },
        "outputId": "c7a74ea6-bbb7-45dc-8aeb-68ba30b4c969"
      },
      "execution_count": null,
      "outputs": [
        {
          "output_type": "stream",
          "name": "stdout",
          "text": [
            "lat=-31.8129&lon=62.5342&units=metric&appid=83ac0cba25afe9820ee263f50de30f4e\n",
            "lat=-14.3990&lon=-120.7677&units=metric&appid=83ac0cba25afe9820ee263f50de30f4e\n",
            "lat=24.6463&lon=-168.8889&units=metric&appid=83ac0cba25afe9820ee263f50de30f4e\n",
            "lat=-31.8129&lon=62.5342&units=metric&appid=83ac0cba25afe9820ee263f50de30f4e\n",
            "lat=-14.3990&lon=-120.7677&units=metric&appid=83ac0cba25afe9820ee263f50de30f4e\n",
            "lat=-68.6102&lon=-47.0653&units=metric&appid=83ac0cba25afe9820ee263f50de30f4e\n",
            "lat=-38.2386&lon=57.2232&units=metric&appid=83ac0cba25afe9820ee263f50de30f4e\n",
            "lat=24.6463&lon=-168.8889&units=metric&appid=83ac0cba25afe9820ee263f50de30f4e\n",
            "lat=-31.8129&lon=62.5342&units=metric&appid=83ac0cba25afe9820ee263f50de30f4e\n",
            "lat=24.8918&lon=21.8984&units=metric&appid=83ac0cba25afe9820ee263f50de30f4e\n",
            "lat=-14.3990&lon=-120.7677&units=metric&appid=83ac0cba25afe9820ee263f50de30f4e\n",
            "lat=24.8918&lon=21.8984&units=metric&appid=83ac0cba25afe9820ee263f50de30f4e\n",
            "lat=29.4572&lon=-164.2990&units=metric&appid=83ac0cba25afe9820ee263f50de30f4e\n",
            "lat=24.6463&lon=-168.8889&units=metric&appid=83ac0cba25afe9820ee263f50de30f4e\n",
            "lat=-37.3159&lon=81.1496&units=metric&appid=83ac0cba25afe9820ee263f50de30f4e\n",
            "lat=24.8918&lon=21.8984&units=metric&appid=83ac0cba25afe9820ee263f50de30f4e\n",
            "lat=-38.2386&lon=57.2232&units=metric&appid=83ac0cba25afe9820ee263f50de30f4e\n",
            "lat=-31.8129&lon=62.5342&units=metric&appid=83ac0cba25afe9820ee263f50de30f4e\n",
            "lat=-38.2386&lon=57.2232&units=metric&appid=83ac0cba25afe9820ee263f50de30f4e\n",
            "lat=24.6463&lon=-168.8889&units=metric&appid=83ac0cba25afe9820ee263f50de30f4e\n",
            "lat=24.6463&lon=-168.8889&units=metric&appid=83ac0cba25afe9820ee263f50de30f4e\n",
            "lat=-38.2386&lon=57.2232&units=metric&appid=83ac0cba25afe9820ee263f50de30f4e\n",
            "lat=-43.9509&lon=-34.4618&units=metric&appid=83ac0cba25afe9820ee263f50de30f4e\n",
            "lat=-68.6102&lon=-47.0653&units=metric&appid=83ac0cba25afe9820ee263f50de30f4e\n",
            "lat=-68.6102&lon=-47.0653&units=metric&appid=83ac0cba25afe9820ee263f50de30f4e\n",
            "lat=24.6463&lon=-168.8889&units=metric&appid=83ac0cba25afe9820ee263f50de30f4e\n",
            "lat=-68.6102&lon=-47.0653&units=metric&appid=83ac0cba25afe9820ee263f50de30f4e\n",
            "lat=24.6463&lon=-168.8889&units=metric&appid=83ac0cba25afe9820ee263f50de30f4e\n",
            "lat=-31.8129&lon=62.5342&units=metric&appid=83ac0cba25afe9820ee263f50de30f4e\n",
            "lat=24.6463&lon=-168.8889&units=metric&appid=83ac0cba25afe9820ee263f50de30f4e\n",
            "lat=-14.3990&lon=-120.7677&units=metric&appid=83ac0cba25afe9820ee263f50de30f4e\n",
            "lat=-68.6102&lon=-47.0653&units=metric&appid=83ac0cba25afe9820ee263f50de30f4e\n",
            "lat=-71.4197&lon=71.7478&units=metric&appid=83ac0cba25afe9820ee263f50de30f4e\n",
            "lat=-38.2386&lon=57.2232&units=metric&appid=83ac0cba25afe9820ee263f50de30f4e\n",
            "lat=-68.6102&lon=-47.0653&units=metric&appid=83ac0cba25afe9820ee263f50de30f4e\n",
            "lat=-68.6102&lon=-47.0653&units=metric&appid=83ac0cba25afe9820ee263f50de30f4e\n",
            "lat=24.8918&lon=21.8984&units=metric&appid=83ac0cba25afe9820ee263f50de30f4e\n",
            "lat=24.6463&lon=-168.8889&units=metric&appid=83ac0cba25afe9820ee263f50de30f4e\n",
            "lat=-37.3159&lon=81.1496&units=metric&appid=83ac0cba25afe9820ee263f50de30f4e\n",
            "lat=29.4572&lon=-164.2990&units=metric&appid=83ac0cba25afe9820ee263f50de30f4e\n",
            "lat=29.4572&lon=-164.2990&units=metric&appid=83ac0cba25afe9820ee263f50de30f4e\n",
            "lat=-31.8129&lon=62.5342&units=metric&appid=83ac0cba25afe9820ee263f50de30f4e\n",
            "lat=-38.2386&lon=57.2232&units=metric&appid=83ac0cba25afe9820ee263f50de30f4e\n",
            "lat=-14.3990&lon=-120.7677&units=metric&appid=83ac0cba25afe9820ee263f50de30f4e\n",
            "lat=-37.3159&lon=81.1496&units=metric&appid=83ac0cba25afe9820ee263f50de30f4e\n",
            "lat=29.4572&lon=-164.2990&units=metric&appid=83ac0cba25afe9820ee263f50de30f4e\n",
            "lat=-14.3990&lon=-120.7677&units=metric&appid=83ac0cba25afe9820ee263f50de30f4e\n",
            "lat=-38.2386&lon=57.2232&units=metric&appid=83ac0cba25afe9820ee263f50de30f4e\n",
            "lat=-31.8129&lon=62.5342&units=metric&appid=83ac0cba25afe9820ee263f50de30f4e\n",
            "lat=24.6463&lon=-168.8889&units=metric&appid=83ac0cba25afe9820ee263f50de30f4e\n",
            "lat=29.4572&lon=-164.2990&units=metric&appid=83ac0cba25afe9820ee263f50de30f4e\n",
            "lat=24.8918&lon=21.8984&units=metric&appid=83ac0cba25afe9820ee263f50de30f4e\n",
            "lat=-14.3990&lon=-120.7677&units=metric&appid=83ac0cba25afe9820ee263f50de30f4e\n",
            "lat=-38.2386&lon=57.2232&units=metric&appid=83ac0cba25afe9820ee263f50de30f4e\n",
            "lat=-43.9509&lon=-34.4618&units=metric&appid=83ac0cba25afe9820ee263f50de30f4e\n",
            "lat=-43.9509&lon=-34.4618&units=metric&appid=83ac0cba25afe9820ee263f50de30f4e\n",
            "lat=-43.9509&lon=-34.4618&units=metric&appid=83ac0cba25afe9820ee263f50de30f4e\n",
            "lat=24.6463&lon=-168.8889&units=metric&appid=83ac0cba25afe9820ee263f50de30f4e\n",
            "lat=-31.8129&lon=62.5342&units=metric&appid=83ac0cba25afe9820ee263f50de30f4e\n",
            "lat=-38.2386&lon=57.2232&units=metric&appid=83ac0cba25afe9820ee263f50de30f4e\n",
            "lat=-14.3990&lon=-120.7677&units=metric&appid=83ac0cba25afe9820ee263f50de30f4e\n",
            "lat=-14.3990&lon=-120.7677&units=metric&appid=83ac0cba25afe9820ee263f50de30f4e\n",
            "lat=-68.6102&lon=-47.0653&units=metric&appid=83ac0cba25afe9820ee263f50de30f4e\n",
            "lat=-14.3990&lon=-120.7677&units=metric&appid=83ac0cba25afe9820ee263f50de30f4e\n",
            "lat=29.4572&lon=-164.2990&units=metric&appid=83ac0cba25afe9820ee263f50de30f4e\n",
            "lat=-43.9509&lon=-34.4618&units=metric&appid=83ac0cba25afe9820ee263f50de30f4e\n",
            "lat=-31.8129&lon=62.5342&units=metric&appid=83ac0cba25afe9820ee263f50de30f4e\n",
            "lat=-71.4197&lon=71.7478&units=metric&appid=83ac0cba25afe9820ee263f50de30f4e\n",
            "lat=29.4572&lon=-164.2990&units=metric&appid=83ac0cba25afe9820ee263f50de30f4e\n",
            "lat=-14.3990&lon=-120.7677&units=metric&appid=83ac0cba25afe9820ee263f50de30f4e\n",
            "lat=24.6463&lon=-168.8889&units=metric&appid=83ac0cba25afe9820ee263f50de30f4e\n",
            "lat=-43.9509&lon=-34.4618&units=metric&appid=83ac0cba25afe9820ee263f50de30f4e\n",
            "lat=-37.3159&lon=81.1496&units=metric&appid=83ac0cba25afe9820ee263f50de30f4e\n",
            "lat=-68.6102&lon=-47.0653&units=metric&appid=83ac0cba25afe9820ee263f50de30f4e\n",
            "lat=24.6463&lon=-168.8889&units=metric&appid=83ac0cba25afe9820ee263f50de30f4e\n",
            "lat=-71.4197&lon=71.7478&units=metric&appid=83ac0cba25afe9820ee263f50de30f4e\n",
            "lat=-14.3990&lon=-120.7677&units=metric&appid=83ac0cba25afe9820ee263f50de30f4e\n",
            "lat=-38.2386&lon=57.2232&units=metric&appid=83ac0cba25afe9820ee263f50de30f4e\n",
            "lat=-68.6102&lon=-47.0653&units=metric&appid=83ac0cba25afe9820ee263f50de30f4e\n",
            "lat=-37.3159&lon=81.1496&units=metric&appid=83ac0cba25afe9820ee263f50de30f4e\n",
            "lat=-31.8129&lon=62.5342&units=metric&appid=83ac0cba25afe9820ee263f50de30f4e\n",
            "lat=-68.6102&lon=-47.0653&units=metric&appid=83ac0cba25afe9820ee263f50de30f4e\n",
            "lat=-68.6102&lon=-47.0653&units=metric&appid=83ac0cba25afe9820ee263f50de30f4e\n",
            "lat=-31.8129&lon=62.5342&units=metric&appid=83ac0cba25afe9820ee263f50de30f4e\n",
            "lat=-43.9509&lon=-34.4618&units=metric&appid=83ac0cba25afe9820ee263f50de30f4e\n",
            "lat=-38.2386&lon=57.2232&units=metric&appid=83ac0cba25afe9820ee263f50de30f4e\n",
            "lat=-31.8129&lon=62.5342&units=metric&appid=83ac0cba25afe9820ee263f50de30f4e\n",
            "lat=-43.9509&lon=-34.4618&units=metric&appid=83ac0cba25afe9820ee263f50de30f4e\n",
            "lat=-14.3990&lon=-120.7677&units=metric&appid=83ac0cba25afe9820ee263f50de30f4e\n",
            "lat=-37.3159&lon=81.1496&units=metric&appid=83ac0cba25afe9820ee263f50de30f4e\n",
            "lat=-71.4197&lon=71.7478&units=metric&appid=83ac0cba25afe9820ee263f50de30f4e\n",
            "lat=29.4572&lon=-164.2990&units=metric&appid=83ac0cba25afe9820ee263f50de30f4e\n",
            "lat=-37.3159&lon=81.1496&units=metric&appid=83ac0cba25afe9820ee263f50de30f4e\n",
            "lat=24.6463&lon=-168.8889&units=metric&appid=83ac0cba25afe9820ee263f50de30f4e\n",
            "lat=-71.4197&lon=71.7478&units=metric&appid=83ac0cba25afe9820ee263f50de30f4e\n",
            "lat=-38.2386&lon=57.2232&units=metric&appid=83ac0cba25afe9820ee263f50de30f4e\n",
            "lat=-38.2386&lon=57.2232&units=metric&appid=83ac0cba25afe9820ee263f50de30f4e\n",
            "lat=-43.9509&lon=-34.4618&units=metric&appid=83ac0cba25afe9820ee263f50de30f4e\n",
            "lat=24.6463&lon=-168.8889&units=metric&appid=83ac0cba25afe9820ee263f50de30f4e\n",
            "lat=-38.2386&lon=57.2232&units=metric&appid=83ac0cba25afe9820ee263f50de30f4e\n",
            "lat=-38.2386&lon=57.2232&units=metric&appid=83ac0cba25afe9820ee263f50de30f4e\n",
            "lat=29.4572&lon=-164.2990&units=metric&appid=83ac0cba25afe9820ee263f50de30f4e\n",
            "lat=-68.6102&lon=-47.0653&units=metric&appid=83ac0cba25afe9820ee263f50de30f4e\n",
            "lat=-37.3159&lon=81.1496&units=metric&appid=83ac0cba25afe9820ee263f50de30f4e\n",
            "lat=-71.4197&lon=71.7478&units=metric&appid=83ac0cba25afe9820ee263f50de30f4e\n",
            "lat=-37.3159&lon=81.1496&units=metric&appid=83ac0cba25afe9820ee263f50de30f4e\n",
            "lat=24.8918&lon=21.8984&units=metric&appid=83ac0cba25afe9820ee263f50de30f4e\n",
            "lat=-43.9509&lon=-34.4618&units=metric&appid=83ac0cba25afe9820ee263f50de30f4e\n",
            "lat=24.6463&lon=-168.8889&units=metric&appid=83ac0cba25afe9820ee263f50de30f4e\n",
            "lat=24.8918&lon=21.8984&units=metric&appid=83ac0cba25afe9820ee263f50de30f4e\n",
            "lat=-43.9509&lon=-34.4618&units=metric&appid=83ac0cba25afe9820ee263f50de30f4e\n",
            "lat=24.6463&lon=-168.8889&units=metric&appid=83ac0cba25afe9820ee263f50de30f4e\n",
            "lat=-31.8129&lon=62.5342&units=metric&appid=83ac0cba25afe9820ee263f50de30f4e\n",
            "lat=-68.6102&lon=-47.0653&units=metric&appid=83ac0cba25afe9820ee263f50de30f4e\n",
            "lat=-71.4197&lon=71.7478&units=metric&appid=83ac0cba25afe9820ee263f50de30f4e\n",
            "lat=29.4572&lon=-164.2990&units=metric&appid=83ac0cba25afe9820ee263f50de30f4e\n",
            "lat=24.8918&lon=21.8984&units=metric&appid=83ac0cba25afe9820ee263f50de30f4e\n",
            "lat=-43.9509&lon=-34.4618&units=metric&appid=83ac0cba25afe9820ee263f50de30f4e\n",
            "lat=-37.3159&lon=81.1496&units=metric&appid=83ac0cba25afe9820ee263f50de30f4e\n",
            "lat=-38.2386&lon=57.2232&units=metric&appid=83ac0cba25afe9820ee263f50de30f4e\n",
            "lat=29.4572&lon=-164.2990&units=metric&appid=83ac0cba25afe9820ee263f50de30f4e\n",
            "lat=-31.8129&lon=62.5342&units=metric&appid=83ac0cba25afe9820ee263f50de30f4e\n",
            "lat=-68.6102&lon=-47.0653&units=metric&appid=83ac0cba25afe9820ee263f50de30f4e\n",
            "lat=24.8918&lon=21.8984&units=metric&appid=83ac0cba25afe9820ee263f50de30f4e\n",
            "lat=24.6463&lon=-168.8889&units=metric&appid=83ac0cba25afe9820ee263f50de30f4e\n",
            "lat=-31.8129&lon=62.5342&units=metric&appid=83ac0cba25afe9820ee263f50de30f4e\n",
            "lat=24.6463&lon=-168.8889&units=metric&appid=83ac0cba25afe9820ee263f50de30f4e\n",
            "lat=29.4572&lon=-164.2990&units=metric&appid=83ac0cba25afe9820ee263f50de30f4e\n",
            "lat=-31.8129&lon=62.5342&units=metric&appid=83ac0cba25afe9820ee263f50de30f4e\n",
            "lat=-14.3990&lon=-120.7677&units=metric&appid=83ac0cba25afe9820ee263f50de30f4e\n",
            "lat=-71.4197&lon=71.7478&units=metric&appid=83ac0cba25afe9820ee263f50de30f4e\n",
            "lat=-37.3159&lon=81.1496&units=metric&appid=83ac0cba25afe9820ee263f50de30f4e\n",
            "lat=-38.2386&lon=57.2232&units=metric&appid=83ac0cba25afe9820ee263f50de30f4e\n",
            "lat=-14.3990&lon=-120.7677&units=metric&appid=83ac0cba25afe9820ee263f50de30f4e\n",
            "lat=-38.2386&lon=57.2232&units=metric&appid=83ac0cba25afe9820ee263f50de30f4e\n",
            "lat=24.8918&lon=21.8984&units=metric&appid=83ac0cba25afe9820ee263f50de30f4e\n",
            "lat=-31.8129&lon=62.5342&units=metric&appid=83ac0cba25afe9820ee263f50de30f4e\n",
            "lat=29.4572&lon=-164.2990&units=metric&appid=83ac0cba25afe9820ee263f50de30f4e\n",
            "lat=-38.2386&lon=57.2232&units=metric&appid=83ac0cba25afe9820ee263f50de30f4e\n",
            "lat=-37.3159&lon=81.1496&units=metric&appid=83ac0cba25afe9820ee263f50de30f4e\n",
            "lat=-71.4197&lon=71.7478&units=metric&appid=83ac0cba25afe9820ee263f50de30f4e\n",
            "lat=24.8918&lon=21.8984&units=metric&appid=83ac0cba25afe9820ee263f50de30f4e\n",
            "lat=-71.4197&lon=71.7478&units=metric&appid=83ac0cba25afe9820ee263f50de30f4e\n",
            "lat=-71.4197&lon=71.7478&units=metric&appid=83ac0cba25afe9820ee263f50de30f4e\n",
            "lat=-71.4197&lon=71.7478&units=metric&appid=83ac0cba25afe9820ee263f50de30f4e\n",
            "lat=-43.9509&lon=-34.4618&units=metric&appid=83ac0cba25afe9820ee263f50de30f4e\n",
            "lat=-43.9509&lon=-34.4618&units=metric&appid=83ac0cba25afe9820ee263f50de30f4e\n",
            "lat=-43.9509&lon=-34.4618&units=metric&appid=83ac0cba25afe9820ee263f50de30f4e\n",
            "lat=29.4572&lon=-164.2990&units=metric&appid=83ac0cba25afe9820ee263f50de30f4e\n",
            "lat=-71.4197&lon=71.7478&units=metric&appid=83ac0cba25afe9820ee263f50de30f4e\n",
            "lat=-38.2386&lon=57.2232&units=metric&appid=83ac0cba25afe9820ee263f50de30f4e\n",
            "lat=-38.2386&lon=57.2232&units=metric&appid=83ac0cba25afe9820ee263f50de30f4e\n",
            "lat=24.6463&lon=-168.8889&units=metric&appid=83ac0cba25afe9820ee263f50de30f4e\n",
            "lat=-71.4197&lon=71.7478&units=metric&appid=83ac0cba25afe9820ee263f50de30f4e\n",
            "lat=-31.8129&lon=62.5342&units=metric&appid=83ac0cba25afe9820ee263f50de30f4e\n",
            "lat=29.4572&lon=-164.2990&units=metric&appid=83ac0cba25afe9820ee263f50de30f4e\n",
            "lat=29.4572&lon=-164.2990&units=metric&appid=83ac0cba25afe9820ee263f50de30f4e\n",
            "lat=29.4572&lon=-164.2990&units=metric&appid=83ac0cba25afe9820ee263f50de30f4e\n",
            "lat=24.6463&lon=-168.8889&units=metric&appid=83ac0cba25afe9820ee263f50de30f4e\n",
            "lat=-37.3159&lon=81.1496&units=metric&appid=83ac0cba25afe9820ee263f50de30f4e\n",
            "lat=24.8918&lon=21.8984&units=metric&appid=83ac0cba25afe9820ee263f50de30f4e\n",
            "lat=24.6463&lon=-168.8889&units=metric&appid=83ac0cba25afe9820ee263f50de30f4e\n",
            "lat=24.6463&lon=-168.8889&units=metric&appid=83ac0cba25afe9820ee263f50de30f4e\n",
            "lat=-71.4197&lon=71.7478&units=metric&appid=83ac0cba25afe9820ee263f50de30f4e\n",
            "lat=-71.4197&lon=71.7478&units=metric&appid=83ac0cba25afe9820ee263f50de30f4e\n",
            "lat=-71.4197&lon=71.7478&units=metric&appid=83ac0cba25afe9820ee263f50de30f4e\n",
            "lat=24.6463&lon=-168.8889&units=metric&appid=83ac0cba25afe9820ee263f50de30f4e\n",
            "lat=29.4572&lon=-164.2990&units=metric&appid=83ac0cba25afe9820ee263f50de30f4e\n",
            "lat=-37.3159&lon=81.1496&units=metric&appid=83ac0cba25afe9820ee263f50de30f4e\n",
            "lat=-31.8129&lon=62.5342&units=metric&appid=83ac0cba25afe9820ee263f50de30f4e\n",
            "lat=-31.8129&lon=62.5342&units=metric&appid=83ac0cba25afe9820ee263f50de30f4e\n",
            "lat=24.6463&lon=-168.8889&units=metric&appid=83ac0cba25afe9820ee263f50de30f4e\n",
            "lat=-71.4197&lon=71.7478&units=metric&appid=83ac0cba25afe9820ee263f50de30f4e\n",
            "lat=-68.6102&lon=-47.0653&units=metric&appid=83ac0cba25afe9820ee263f50de30f4e\n",
            "lat=-68.6102&lon=-47.0653&units=metric&appid=83ac0cba25afe9820ee263f50de30f4e\n",
            "lat=-68.6102&lon=-47.0653&units=metric&appid=83ac0cba25afe9820ee263f50de30f4e\n",
            "lat=29.4572&lon=-164.2990&units=metric&appid=83ac0cba25afe9820ee263f50de30f4e\n",
            "lat=-71.4197&lon=71.7478&units=metric&appid=83ac0cba25afe9820ee263f50de30f4e\n",
            "lat=24.8918&lon=21.8984&units=metric&appid=83ac0cba25afe9820ee263f50de30f4e\n",
            "lat=-68.6102&lon=-47.0653&units=metric&appid=83ac0cba25afe9820ee263f50de30f4e\n"
          ]
        }
      ]
    },
    {
      "cell_type": "code",
      "source": [
        "# Display the updated DataFrame with weather information\n",
        "print(sales_users_df.head())\n",
        "print(\"--------------------------------------\")\n",
        "print(sales_df.head())\n",
        "print(\"--------------------------------------\")\n",
        "print(weather_df.head())"
      ],
      "metadata": {
        "id": "3wlYIUx6UlvG"
      },
      "execution_count": null,
      "outputs": []
    },
    {
      "cell_type": "code",
      "source": [
        "# Create a new DataFrame with selected columns\n",
        "flattened_weather_df = weather_df[['id']]\n",
        "\n",
        "flattened_weather_df['lat'] = weather_df['coord'].apply(lambda x: x.get('lat', {}))\n",
        "flattened_weather_df['lon'] = weather_df['coord'].apply(lambda x: x.get('lon', {}))\n",
        "flattened_weather_df['description'] = weather_df['weather'].apply(lambda x: x.get('description', {}))\n",
        "flattened_weather_df['weather_id'] = weather_df['weather'].apply(lambda x: x.get('id', {}))\n",
        "flattened_weather_df['weather_main'] = weather_df['weather'].apply(lambda x: x.get('main', {}))\n",
        "flattened_weather_df['weather_icon'] = weather_df['weather'].apply(lambda x: x.get('icon', {}))\n",
        "flattened_weather_df['base'] = weather_df['base']\n",
        "flattened_weather_df['temp'] = weather_df['main'].apply(lambda x: x.get('temp', {}))\n",
        "flattened_weather_df['feels_like'] = weather_df['main'].apply(lambda x: x.get('feels_like', {}))\n",
        "flattened_weather_df['temp_min'] = weather_df['main'].apply(lambda x: x.get('temp_min', {}))\n",
        "flattened_weather_df['temp_max'] = weather_df['main'].apply(lambda x: x.get('temp_max', {}))\n",
        "flattened_weather_df['pressure'] = weather_df['main'].apply(lambda x: x.get('pressure', {}))\n",
        "flattened_weather_df['humidity'] = weather_df['main'].apply(lambda x: x.get('humidity', {}))\n",
        "flattened_weather_df['sea_level'] = weather_df['main'].apply(lambda x: x.get('sea_level', {}))\n",
        "flattened_weather_df['grnd_level'] = weather_df['main'].apply(lambda x: x.get('grnd_level', {}))\n",
        "\n",
        "flattened_weather_df['visibility'] = weather_df['visibility']\n",
        "flattened_weather_df['speed'] = weather_df['wind'].apply(lambda x: x.get('speed', {}))\n",
        "flattened_weather_df['deg'] = weather_df['wind'].apply(lambda x: x.get('deg', {}))\n",
        "flattened_weather_df['gust'] = weather_df['wind'].apply(lambda x: x.get('gust', {}))\n",
        "\n",
        "flattened_weather_df['clouds'] = weather_df['clouds'].apply(lambda x: x.get('all', {}))\n",
        "\n",
        "flattened_weather_df['dt'] = weather_df['dt']\n",
        "\n",
        "flattened_weather_df['sunrise'] = weather_df['sys'].apply(lambda x: x.get('sunrise', {}))\n",
        "flattened_weather_df['sunset'] = weather_df['sys'].apply(lambda x: x.get('sunset', {}))\n",
        "flattened_weather_df['timezone'] = weather_df['timezone']\n",
        "flattened_weather_df['city_id'] = weather_df['id']\n",
        "flattened_weather_df['city_name'] = weather_df['name']\n",
        "flattened_weather_df['cod'] = weather_df['cod']\n",
        "print(flattened_weather_df.head())"
      ],
      "metadata": {
        "id": "nuieTsEAEGnp"
      },
      "execution_count": null,
      "outputs": []
    },
    {
      "cell_type": "code",
      "source": [
        "\n"
      ],
      "metadata": {
        "id": "mGWPzZU8EHb6"
      },
      "execution_count": null,
      "outputs": []
    },
    {
      "cell_type": "code",
      "source": [
        "# Check for missing values\n",
        "missing_values = sales_users_df.isnull().sum()\n",
        "print(missing_values)\n"
      ],
      "metadata": {
        "id": "tSJoX5muf9_D"
      },
      "execution_count": null,
      "outputs": []
    },
    {
      "cell_type": "markdown",
      "source": [
        "Data Manipulation and Aggregation"
      ],
      "metadata": {
        "id": "6-812qMbfxeP"
      }
    },
    {
      "cell_type": "code",
      "source": [
        "# Calculate total sales amount per customer\n",
        "total_sales_per_customer = sales_users_df.groupby('customer_id')['price'].sum()\n",
        "print(total_sales_per_customer)"
      ],
      "metadata": {
        "id": "m4TVwCmEUtTO"
      },
      "execution_count": null,
      "outputs": []
    },
    {
      "cell_type": "code",
      "source": [
        "# total sales per customer : Graph\n",
        "plt.figure(figsize=(10, 6))\n",
        "total_sales_per_customer.plot(kind='bar', rot=0)\n",
        "plt.xlabel('Customer ID')\n",
        "plt.ylabel('Total Sales Amount')\n",
        "plt.title('Total Sales Amount Per Customer')\n",
        "plt.show()"
      ],
      "metadata": {
        "id": "96m4CN_ogV6c"
      },
      "execution_count": null,
      "outputs": []
    },
    {
      "cell_type": "code",
      "source": [
        "# average order quantity per product\n",
        "average_order_quantity_per_product = sales_users_df.groupby('product_id')['quantity'].mean()\n",
        "print(average_order_quantity_per_product)"
      ],
      "metadata": {
        "id": "qFSkaAPPgr0x"
      },
      "execution_count": null,
      "outputs": []
    },
    {
      "cell_type": "code",
      "source": [
        "# average order quantity per product : Graph\n",
        "plt.figure(figsize=(10, 6))\n",
        "average_order_quantity_per_product.plot(kind='bar', rot=0)\n",
        "plt.xlabel('Product ID')\n",
        "plt.ylabel('Average Order Quantity')\n",
        "plt.title('Average Order Quantity Per Product')\n",
        "plt.show()"
      ],
      "metadata": {
        "id": "FDMk0N2Dg6oc"
      },
      "execution_count": null,
      "outputs": []
    },
    {
      "cell_type": "code",
      "source": [
        "#Top-Selling Products by Quantity\n",
        "top_selling_products = sales_users_df.groupby('product_id')['quantity'].sum().sort_values(ascending=False)\n",
        "print(top_selling_products)"
      ],
      "metadata": {
        "id": "Wr4oN3Lbg88N"
      },
      "execution_count": null,
      "outputs": []
    },
    {
      "cell_type": "code",
      "source": [
        "#Top-Selling Products Quantity : Graph top 10 selling\n",
        "plt.figure(figsize=(10, 6))\n",
        "top_selling_products.head(10).plot(kind='bar', rot=0)\n",
        "plt.xlabel('Product ID')\n",
        "plt.ylabel('Total Sales Quantity')\n",
        "plt.title('Top-Selling Products (Descending Order)')\n",
        "plt.show()"
      ],
      "metadata": {
        "id": "VJaySVUshQFL"
      },
      "execution_count": null,
      "outputs": []
    },
    {
      "cell_type": "code",
      "source": [
        "#Top-Selling Products by Price\n",
        "top_selling_products = sales_users_df.groupby('product_id')['price'].sum().sort_values(ascending=False)\n",
        "print(top_selling_products)"
      ],
      "metadata": {
        "id": "Al9mVgyOjECn"
      },
      "execution_count": null,
      "outputs": []
    },
    {
      "cell_type": "code",
      "source": [
        "#Top-Selling Products Price : Graph top 10 selling\n",
        "plt.figure(figsize=(10, 6))\n",
        "top_selling_products.head(10).plot(kind='bar', rot=0)\n",
        "plt.xlabel('Product ID')\n",
        "plt.ylabel('Total Sales Price')\n",
        "plt.title('Top-Selling Products (Descending Order)')\n",
        "plt.show()"
      ],
      "metadata": {
        "id": "49ZT2_oujEC6"
      },
      "execution_count": null,
      "outputs": []
    },
    {
      "cell_type": "code",
      "source": [
        "#Top-Selling Customer by Price\n",
        "top_selling_customer = sales_users_df.groupby('customer_id')['price'].sum().sort_values(ascending=False)\n",
        "print(top_selling_customer)"
      ],
      "metadata": {
        "id": "7tvhyFKDjyOA"
      },
      "execution_count": null,
      "outputs": []
    },
    {
      "cell_type": "code",
      "source": [
        "#Top-Selling customer Price : Graph top 10 selling\n",
        "plt.figure(figsize=(10, 6))\n",
        "top_selling_customer.head(10).plot(kind='bar', rot=0)\n",
        "plt.xlabel('Product ID')\n",
        "plt.ylabel('Total Sales Price')\n",
        "plt.title('Top-Selling customer (Descending Order)')\n",
        "plt.show()"
      ],
      "metadata": {
        "id": "OYmQcbzzjyOB"
      },
      "execution_count": null,
      "outputs": []
    },
    {
      "cell_type": "code",
      "source": [
        "#Top-Selling Customer by Quantity\n",
        "top_selling_customer = sales_users_df.groupby('customer_id')['quantity'].sum().sort_values(ascending=False)\n",
        "print(top_selling_customer)"
      ],
      "metadata": {
        "id": "2R6LML1rjRxn"
      },
      "execution_count": null,
      "outputs": []
    },
    {
      "cell_type": "code",
      "source": [
        "#Top-Selling Customer Quantity : Graph top 10 selling\n",
        "plt.figure(figsize=(10, 6))\n",
        "top_selling_customer.head(10).plot(kind='bar', rot=0)\n",
        "plt.xlabel('Customer ID')\n",
        "plt.ylabel('Total Sales Quantity')\n",
        "plt.title('Top-Selling Customers (Descending Order)')\n",
        "plt.show()"
      ],
      "metadata": {
        "id": "PCdkZYGajRxo"
      },
      "execution_count": null,
      "outputs": []
    },
    {
      "cell_type": "code",
      "source": [
        "# Monthly Sales Trends Price\n",
        "sales_users_df['order_date'] = pd.to_datetime(sales_users_df['order_date'])\n",
        "monthly_sales = sales_users_df.groupby(sales_users_df['order_date'].dt.to_period('M'))['price'].sum()"
      ],
      "metadata": {
        "id": "F4ewGbgKkJNE"
      },
      "execution_count": null,
      "outputs": []
    },
    {
      "cell_type": "code",
      "source": [
        "# Monthly Sales Trends Price : Graph\n",
        "plt.figure(figsize=(12, 6))\n",
        "monthly_sales.plot(kind='line', marker='o')\n",
        "plt.xlabel('Month')\n",
        "plt.ylabel('Total Sales Amount')\n",
        "plt.title('Monthly Sales Trends')\n",
        "plt.xticks(rotation=45)\n",
        "plt.grid()\n",
        "plt.show()"
      ],
      "metadata": {
        "id": "LLb-gay2kJCV"
      },
      "execution_count": null,
      "outputs": []
    },
    {
      "cell_type": "code",
      "source": [
        "# Monthly Sales Trends Quantity\n",
        "sales_users_df['order_date'] = pd.to_datetime(sales_users_df['order_date'])\n",
        "monthly_sales = sales_users_df.groupby(sales_users_df['order_date'].dt.to_period('M'))['quantity'].sum()\n",
        "print (monthly_sales)"
      ],
      "metadata": {
        "id": "o2BU1XLukwB3"
      },
      "execution_count": null,
      "outputs": []
    },
    {
      "cell_type": "code",
      "source": [
        "# Monthly Sales Trends Quantity : Graph\n",
        "plt.figure(figsize=(12, 6))\n",
        "monthly_sales.plot(kind='line', marker='o')\n",
        "plt.xlabel('Month')\n",
        "plt.ylabel('Total Sales Quantity')\n",
        "plt.title('Monthly Sales Trends')\n",
        "plt.xticks(rotation=45)\n",
        "plt.grid()\n",
        "plt.show()"
      ],
      "metadata": {
        "id": "wAOGvrCJkwCB"
      },
      "execution_count": null,
      "outputs": []
    },
    {
      "cell_type": "code",
      "source": [
        "# Monthly Sales Trends Price\n",
        "avg_sales_per_weather_condition = sales_users_df.groupby('weather_conditions')['price'].mean()\n",
        "print(avg_sales_per_weather_condition)"
      ],
      "metadata": {
        "id": "k73HGpCBk9_3"
      },
      "execution_count": null,
      "outputs": []
    },
    {
      "cell_type": "code",
      "source": [
        "# Monthly Sales Trends Price\n",
        "plt.figure(figsize=(10, 6))\n",
        "avg_sales_per_weather_condition.plot(kind='bar', rot=45)\n",
        "plt.xlabel('Weather Conditions')\n",
        "plt.ylabel('Average Sales Amount')\n",
        "plt.title('Average Sales Amount Per Weather Condition')\n",
        "plt.show()"
      ],
      "metadata": {
        "id": "IM-ZL_XTm9Jb"
      },
      "execution_count": null,
      "outputs": []
    },
    {
      "cell_type": "code",
      "source": [
        "# Monthly Sales Trends quantity\n",
        "avg_sales_per_weather_condition = sales_users_df.groupby('weather_conditions')['quantity'].mean()\n",
        "print(avg_sales_per_weather_condition)"
      ],
      "metadata": {
        "id": "vA1GxSq-nvQ3"
      },
      "execution_count": null,
      "outputs": []
    },
    {
      "cell_type": "code",
      "source": [
        "# Monthly Sales Trends quantity\n",
        "plt.figure(figsize=(10, 6))\n",
        "avg_sales_per_weather_condition.plot(kind='bar', rot=45)\n",
        "plt.xlabel('Weather Conditions')\n",
        "plt.ylabel('Average Sales Amount')\n",
        "plt.title('Average Sales Amount Per Weather Condition')\n",
        "plt.show()"
      ],
      "metadata": {
        "id": "juERXmw9nvQ6"
      },
      "execution_count": null,
      "outputs": []
    },
    {
      "cell_type": "code",
      "source": [
        "# Total Revenue Per Product\n",
        "sales_users_df['total_revenue'] = sales_users_df['quantity'] * sales_users_df['price']\n",
        "total_revenue_per_product = sales_users_df.groupby('product_id')['total_revenue'].sum()\n",
        "print (total_revenue_per_product)"
      ],
      "metadata": {
        "id": "luUFk9vooLHH"
      },
      "execution_count": null,
      "outputs": []
    },
    {
      "cell_type": "code",
      "source": [
        "# Total Revenue Per Product : Graph\n",
        "plt.figure(figsize=(10, 6))\n",
        "total_revenue_per_product.plot(kind='bar', rot=0)\n",
        "plt.xlabel('Product ID')\n",
        "plt.ylabel('Total Revenue')\n",
        "plt.title('Total Revenue Per Product')\n",
        "plt.show()"
      ],
      "metadata": {
        "id": "ZAjUJIDGoLRr"
      },
      "execution_count": null,
      "outputs": []
    },
    {
      "cell_type": "code",
      "source": [
        "#Sales by Day of the Week : Graph\n",
        "sales_users_df['day_of_week'] = sales_users_df['order_date'].dt.day_name()\n",
        "sales_by_day_of_week = sales_users_df.groupby('day_of_week')['price'].sum()\n",
        "print(sales_by_day_of_week)"
      ],
      "metadata": {
        "id": "KnJPtV10omVT"
      },
      "execution_count": null,
      "outputs": []
    },
    {
      "cell_type": "code",
      "source": [
        "#Sales by Day of the Week : Graph\n",
        "plt.figure(figsize=(10, 6))\n",
        "sales_by_day_of_week.plot(kind='bar', rot=0)\n",
        "plt.xlabel('Day of the Week')\n",
        "plt.ylabel('Total Sales Amount')\n",
        "plt.title('Sales by Day of the Week')\n",
        "plt.show()"
      ],
      "metadata": {
        "id": "fbMlYw4xomgM"
      },
      "execution_count": null,
      "outputs": []
    },
    {
      "cell_type": "code",
      "source": [
        "# Segment customers based on their order frequency\n",
        "def customer_segmentation(row):\n",
        "    if row['order_frequency'] <= pd.Timedelta(days=30):\n",
        "        return 'New Customer'\n",
        "    elif pd.Timedelta(days=30) < row['order_frequency'] <= pd.Timedelta(days=90):\n",
        "        return 'Returning Customer'\n",
        "    else:\n",
        "        return 'Loyal Customer'\n",
        "sales_users_df.sort_values(by=['customer_id', 'order_date'], inplace=True)\n",
        "sales_users_df['order_frequency'] = sales_users_df.groupby('customer_id')['order_date'].diff()\n",
        "sales_users_df['customer_segment'] = sales_users_df.apply(customer_segmentation, axis=1)\n",
        "customer_segment_counts = sales_users_df['customer_segment'].value_counts()\n",
        "\n",
        "plt.figure(figsize=(8, 8))\n",
        "plt.pie(customer_segment_counts, labels=customer_segment_counts.index, autopct='%1.1f%%', startangle=90)\n",
        "plt.title('Customer Segmentation')\n",
        "plt.show()\n",
        "\n"
      ],
      "metadata": {
        "id": "o--N1DJnpFqC"
      },
      "execution_count": null,
      "outputs": []
    },
    {
      "cell_type": "code",
      "source": [],
      "metadata": {
        "id": "CgDmWhLIpFh3"
      },
      "execution_count": null,
      "outputs": []
    }
  ]
}